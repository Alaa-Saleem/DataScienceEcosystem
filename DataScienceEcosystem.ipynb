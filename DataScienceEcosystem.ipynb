{
 "cells": [
  {
   "cell_type": "markdown",
   "id": "e9710aac-e991-4fa7-85a8-0ec96ec62dbe",
   "metadata": {},
   "source": [
    "# DataScienceEcosystem"
   ]
  },
  {
   "cell_type": "markdown",
   "id": "661d9f3c-8ec0-4062-9bb6-89ed3164da79",
   "metadata": {},
   "source": [
    "This notebook provides a summary of Data Science tools and ecosystem for the IBM Data Science Tools final project, serving as a course overview."
   ]
  },
  {
   "cell_type": "markdown",
   "id": "27b78bea-8d5b-4456-815e-03ece3b9227f",
   "metadata": {},
   "source": [
    "**Objectives:**\n",
    "\n",
    "- popular languages for Data Science\n",
    "- Identify commonly used libraries in Data Science\n",
    "- table of popular Data Science tools\n",
    "- Understand basic arithmetic operations in Python\n",
    "- Convert min to hors"
   ]
  },
  {
   "cell_type": "markdown",
   "id": "ab919c57-dd35-47b9-bac1-39ae32c8a487",
   "metadata": {},
   "source": [
    "Some of the popular languages that Data Scientists use are:\n",
    "1. Python \n",
    "2. SQL\n",
    "3. R\n",
    "4. Scala"
   ]
  },
  {
   "cell_type": "markdown",
   "id": "84b46ca1-632a-4f40-b66c-53692cf8d375",
   "metadata": {},
   "source": [
    "Some of the commonly used libraries used by Data Scientists include:\n",
    "\n",
    "1. **Pandas**: A powerful library for data manipulation and analysis, Pandas provides data structures and operations to handle structured data easily.\n",
    "\n",
    "2. **NumPy**: Essential for numerical computing, NumPy offers support for large, multi-dimensional arrays and matrices, along with a collection of mathematical functions.\n",
    "\n",
    "3. **Matplotlib**: Widely used for creating static, animated, and interactive visualizations in Python, Matplotlib is essential for data visualization."
   ]
  },
  {
   "cell_type": "markdown",
   "id": "29f6d436-29a5-4042-bc22-f8b380af8cac",
   "metadata": {},
   "source": [
    "| Data Science Tools            |\r\n",
    "|-------------------------------|\r\n",
    "| Jupyter Notebook              |\r\n",
    "| RStudio                        |\r\n",
    "| IBM Watson                    |\r\n"
   ]
  },
  {
   "cell_type": "markdown",
   "id": "b1826d13-9f69-4a3f-ba30-0a54d0583d60",
   "metadata": {},
   "source": [
    "### Below are a few examples of evaluating arithmetic expressions in Python.\r\n"
   ]
  },
  {
   "cell_type": "code",
   "execution_count": 8,
   "id": "7679bb95-0877-4459-8870-c82eecbfdc59",
   "metadata": {},
   "outputs": [
    {
     "data": {
      "text/plain": [
       "17"
      ]
     },
     "execution_count": 8,
     "metadata": {},
     "output_type": "execute_result"
    }
   ],
   "source": [
    "# This is a simple arithmetic expression to multiply then add integers\n",
    "(3 * 4) + 5"
   ]
  },
  {
   "cell_type": "code",
   "execution_count": 10,
   "id": "126a75f3-3ba3-4997-8c5b-ea76c0280fff",
   "metadata": {},
   "outputs": [
    {
     "data": {
      "text/plain": [
       "3.3333333333333335"
      ]
     },
     "execution_count": 10,
     "metadata": {},
     "output_type": "execute_result"
    }
   ],
   "source": [
    "# This will convert 200 minutes to hours by dividing by 60\n",
    "200 / 60"
   ]
  },
  {
   "cell_type": "markdown",
   "id": "162fd247-e156-4243-98b4-e2ec2aa8e08a",
   "metadata": {},
   "source": [
    "## Author\n",
    "Alaa Rafat Abu Salim"
   ]
  }
 ],
 "metadata": {
  "kernelspec": {
   "display_name": "Python 3 (ipykernel)",
   "language": "python",
   "name": "python3"
  },
  "language_info": {
   "codemirror_mode": {
    "name": "ipython",
    "version": 3
   },
   "file_extension": ".py",
   "mimetype": "text/x-python",
   "name": "python",
   "nbconvert_exporter": "python",
   "pygments_lexer": "ipython3",
   "version": "3.12.4"
  }
 },
 "nbformat": 4,
 "nbformat_minor": 5
}
